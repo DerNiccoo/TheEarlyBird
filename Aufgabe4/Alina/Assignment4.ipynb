{
  "nbformat": 4,
  "nbformat_minor": 0,
  "metadata": {
    "colab": {
      "name": "Assignment4.ipynb",
      "provenance": [],
      "collapsed_sections": [],
      "authorship_tag": "ABX9TyMygidv1nNqBPCh9DNHEJTg",
      "include_colab_link": true
    },
    "kernelspec": {
      "name": "python3",
      "display_name": "Python 3"
    },
    "accelerator": "GPU"
  },
  "cells": [
    {
      "cell_type": "markdown",
      "metadata": {
        "id": "view-in-github",
        "colab_type": "text"
      },
      "source": [
        "<a href=\"https://colab.research.google.com/github/DerNiccoo/TheEarlyBird/blob/main/Aufgabe4/Alina/Assignment4.ipynb\" target=\"_parent\"><img src=\"https://colab.research.google.com/assets/colab-badge.svg\" alt=\"Open In Colab\"/></a>"
      ]
    },
    {
      "cell_type": "markdown",
      "metadata": {
        "id": "7OiOM8Pozsj7"
      },
      "source": [
        "# **Assignment 4**"
      ]
    },
    {
      "cell_type": "markdown",
      "metadata": {
        "id": "GEQJOauzz1G3"
      },
      "source": [
        "**1. Go to the following Git repo which contains a dataset of German articles:\n",
        "https://github.com/tblock/10kGNAD**<br>\n",
        "**2. Download the file train.csv from there and import it into a notebook.**"
      ]
    },
    {
      "cell_type": "code",
      "metadata": {
        "colab": {
          "base_uri": "https://localhost:8080/"
        },
        "id": "A504YUyTBVBd",
        "outputId": "04e5a0e3-016d-40da-c180-dc16d43999b5"
      },
      "source": [
        "from google.colab import drive\n",
        "drive.mount(\"/content/drive\")"
      ],
      "execution_count": 1,
      "outputs": [
        {
          "output_type": "stream",
          "text": [
            "Mounted at /content/drive\n"
          ],
          "name": "stdout"
        }
      ]
    },
    {
      "cell_type": "code",
      "metadata": {
        "id": "UG0zZKHcJFof"
      },
      "source": [
        "import torch"
      ],
      "execution_count": 2,
      "outputs": []
    },
    {
      "cell_type": "code",
      "metadata": {
        "id": "UvIu2ndzBYKu"
      },
      "source": [
        "import pandas as pd\n",
        "\n",
        "#Read the CSV file with seperatr=; and set Columnnames 'labels' and 'text'\n",
        "df = pd.read_csv('/content/drive/My Drive/KI_Lab/train.csv', error_bad_lines=False, sep=';', names=['labels','text'])"
      ],
      "execution_count": 56,
      "outputs": []
    },
    {
      "cell_type": "code",
      "metadata": {
        "colab": {
          "base_uri": "https://localhost:8080/"
        },
        "id": "CNsL8SSqNOgT",
        "outputId": "4c88053f-1d23-4c5a-9e66-06c483391c0c"
      },
      "source": [
        "print(df)"
      ],
      "execution_count": 57,
      "outputs": [
        {
          "output_type": "stream",
          "text": [
            "             labels                                               text\n",
            "0             Sport  21-Jähriger fällt wohl bis Saisonende aus. Wie...\n",
            "1            Kultur  'Erfundene Bilder zu Filmen, die als verloren ...\n",
            "2               Web  Der frischgekürte CEO Sundar Pichai setzt auf ...\n",
            "3        Wirtschaft  Putin: \"Einigung, dass wir Menge auf Niveau vo...\n",
            "4            Inland  Estland sieht den künftigen österreichischen P...\n",
            "...             ...                                                ...\n",
            "9240         Inland  Bernd Saurer war Bridge-Juniorenweltmeister un...\n",
            "9241  International  Sandhere soll in vergangener Woche bei Luftang...\n",
            "9242     Wirtschaft  Derzeit Konzeptgruppe in Berlin – Kein Komment...\n",
            "9243         Inland  Landeshauptmann will den vierten Regierungssit...\n",
            "9244       Panorama  Er ist einer von Millionen syrischen Flüchtlin...\n",
            "\n",
            "[9245 rows x 2 columns]\n"
          ],
          "name": "stdout"
        }
      ]
    },
    {
      "cell_type": "code",
      "metadata": {
        "id": "Ewda9mXSD0Z2"
      },
      "source": [
        "#From github\n",
        "#url = 'https://raw.githubusercontent.com/tblock/10kGNAD/master/train.csv'\n",
        "#df = pd.read_csv(url, error_bad_lines=False)"
      ],
      "execution_count": 5,
      "outputs": []
    },
    {
      "cell_type": "markdown",
      "metadata": {
        "id": "2aK_pjh90JUn"
      },
      "source": [
        "**3. Drop the label and only use the sentence in each line (the part after the first ; ).**"
      ]
    },
    {
      "cell_type": "code",
      "metadata": {
        "id": "GbwjiQzuBwA7"
      },
      "source": [
        "df = df.drop('labels', axis = 1)"
      ],
      "execution_count": 58,
      "outputs": []
    },
    {
      "cell_type": "markdown",
      "metadata": {
        "id": "3HoNPai9UmTr"
      },
      "source": [
        "**Install spacy on GPU**\n"
      ]
    },
    {
      "cell_type": "code",
      "metadata": {
        "colab": {
          "base_uri": "https://localhost:8080/"
        },
        "id": "yUyvQs3fEaQa",
        "outputId": "368e3bc2-37f4-4d34-ea7b-560b7d598aeb"
      },
      "source": [
        "!pip install -U spacy[cuda100] de\n"
      ],
      "execution_count": 7,
      "outputs": [
        {
          "output_type": "stream",
          "text": [
            "Collecting spacy[cuda100]\n",
            "\u001b[?25l  Downloading https://files.pythonhosted.org/packages/50/b2/12466d3018bb84b039139ef76436ea7a01e98125c2aee6a81e527eb4ebe1/spacy-2.3.4-cp36-cp36m-manylinux2014_x86_64.whl (10.4MB)\n",
            "\u001b[K     |████████████████████████████████| 10.4MB 10.2MB/s \n",
            "\u001b[?25hCollecting de\n",
            "  Downloading https://files.pythonhosted.org/packages/d7/b8/ee2e5c22775450d2a8751273a4b3cfa6e47cdb6393dd803b6317a85d213c/de-0.1.tar.gz\n",
            "Requirement already satisfied, skipping upgrade: murmurhash<1.1.0,>=0.28.0 in /usr/local/lib/python3.6/dist-packages (from spacy[cuda100]) (1.0.4)\n",
            "Requirement already satisfied, skipping upgrade: preshed<3.1.0,>=3.0.2 in /usr/local/lib/python3.6/dist-packages (from spacy[cuda100]) (3.0.4)\n",
            "Requirement already satisfied, skipping upgrade: wasabi<1.1.0,>=0.4.0 in /usr/local/lib/python3.6/dist-packages (from spacy[cuda100]) (0.8.0)\n",
            "Requirement already satisfied, skipping upgrade: catalogue<1.1.0,>=0.0.7 in /usr/local/lib/python3.6/dist-packages (from spacy[cuda100]) (1.0.0)\n",
            "Requirement already satisfied, skipping upgrade: srsly<1.1.0,>=1.0.2 in /usr/local/lib/python3.6/dist-packages (from spacy[cuda100]) (1.0.4)\n",
            "Requirement already satisfied, skipping upgrade: cymem<2.1.0,>=2.0.2 in /usr/local/lib/python3.6/dist-packages (from spacy[cuda100]) (2.0.4)\n",
            "Requirement already satisfied, skipping upgrade: tqdm<5.0.0,>=4.38.0 in /usr/local/lib/python3.6/dist-packages (from spacy[cuda100]) (4.41.1)\n",
            "Requirement already satisfied, skipping upgrade: plac<1.2.0,>=0.9.6 in /usr/local/lib/python3.6/dist-packages (from spacy[cuda100]) (1.1.3)\n",
            "Requirement already satisfied, skipping upgrade: blis<0.8.0,>=0.4.0; python_version >= \"3.6\" in /usr/local/lib/python3.6/dist-packages (from spacy[cuda100]) (0.4.1)\n",
            "Requirement already satisfied, skipping upgrade: setuptools in /usr/local/lib/python3.6/dist-packages (from spacy[cuda100]) (50.3.2)\n",
            "Requirement already satisfied, skipping upgrade: numpy>=1.15.0 in /usr/local/lib/python3.6/dist-packages (from spacy[cuda100]) (1.18.5)\n",
            "Collecting thinc<7.5.0,>=7.4.1\n",
            "\u001b[?25l  Downloading https://files.pythonhosted.org/packages/1b/c9/ce2e03720a5647fd90da575325376ff258653a05f357aa970fd87e6c1a55/thinc-7.4.3-cp36-cp36m-manylinux2014_x86_64.whl (1.1MB)\n",
            "\u001b[K     |████████████████████████████████| 1.1MB 40.4MB/s \n",
            "\u001b[?25hRequirement already satisfied, skipping upgrade: requests<3.0.0,>=2.13.0 in /usr/local/lib/python3.6/dist-packages (from spacy[cuda100]) (2.23.0)\n",
            "Collecting cupy-cuda100<8.0.0,>=5.0.0b4; extra == \"cuda100\"\n",
            "\u001b[?25l  Downloading https://files.pythonhosted.org/packages/7f/4c/3454f4e633e721f983ba19d54983734d9276ced336178d264533f06d12a6/cupy_cuda100-7.8.0-cp36-cp36m-manylinux1_x86_64.whl (348.0MB)\n",
            "\u001b[K     |████████████████████████████████| 348.0MB 48kB/s \n",
            "\u001b[?25hRequirement already satisfied, skipping upgrade: importlib-metadata>=0.20; python_version < \"3.8\" in /usr/local/lib/python3.6/dist-packages (from catalogue<1.1.0,>=0.0.7->spacy[cuda100]) (2.0.0)\n",
            "Requirement already satisfied, skipping upgrade: certifi>=2017.4.17 in /usr/local/lib/python3.6/dist-packages (from requests<3.0.0,>=2.13.0->spacy[cuda100]) (2020.11.8)\n",
            "Requirement already satisfied, skipping upgrade: urllib3!=1.25.0,!=1.25.1,<1.26,>=1.21.1 in /usr/local/lib/python3.6/dist-packages (from requests<3.0.0,>=2.13.0->spacy[cuda100]) (1.24.3)\n",
            "Requirement already satisfied, skipping upgrade: chardet<4,>=3.0.2 in /usr/local/lib/python3.6/dist-packages (from requests<3.0.0,>=2.13.0->spacy[cuda100]) (3.0.4)\n",
            "Requirement already satisfied, skipping upgrade: idna<3,>=2.5 in /usr/local/lib/python3.6/dist-packages (from requests<3.0.0,>=2.13.0->spacy[cuda100]) (2.10)\n",
            "Requirement already satisfied, skipping upgrade: fastrlock>=0.3 in /usr/local/lib/python3.6/dist-packages (from cupy-cuda100<8.0.0,>=5.0.0b4; extra == \"cuda100\"->spacy[cuda100]) (0.5)\n",
            "Requirement already satisfied, skipping upgrade: six>=1.9.0 in /usr/local/lib/python3.6/dist-packages (from cupy-cuda100<8.0.0,>=5.0.0b4; extra == \"cuda100\"->spacy[cuda100]) (1.15.0)\n",
            "Requirement already satisfied, skipping upgrade: zipp>=0.5 in /usr/local/lib/python3.6/dist-packages (from importlib-metadata>=0.20; python_version < \"3.8\"->catalogue<1.1.0,>=0.0.7->spacy[cuda100]) (3.4.0)\n",
            "Building wheels for collected packages: de\n",
            "  Building wheel for de (setup.py) ... \u001b[?25l\u001b[?25hdone\n",
            "  Created wheel for de: filename=de-0.1-cp36-none-any.whl size=1158 sha256=e4a331556c83c8b3690177a4a66a8458626cecfbeb8ddbe537eb34aac5dc2b4d\n",
            "  Stored in directory: /root/.cache/pip/wheels/fd/16/b9/46fac6c03128929538323f5457e947af752b7c58d4c7783f04\n",
            "Successfully built de\n",
            "Installing collected packages: thinc, cupy-cuda100, spacy, de\n",
            "  Found existing installation: thinc 7.4.0\n",
            "    Uninstalling thinc-7.4.0:\n",
            "      Successfully uninstalled thinc-7.4.0\n",
            "  Found existing installation: spacy 2.2.4\n",
            "    Uninstalling spacy-2.2.4:\n",
            "      Successfully uninstalled spacy-2.2.4\n",
            "Successfully installed cupy-cuda100-7.8.0 de-0.1 spacy-2.3.4 thinc-7.4.3\n"
          ],
          "name": "stdout"
        }
      ]
    },
    {
      "cell_type": "code",
      "metadata": {
        "colab": {
          "base_uri": "https://localhost:8080/"
        },
        "id": "dNwmPgzNN4wt",
        "outputId": "db545727-6861-4cbe-afa8-85ffe7373872"
      },
      "source": [
        "!python -m spacy download de\n",
        "import spacy "
      ],
      "execution_count": 8,
      "outputs": [
        {
          "output_type": "stream",
          "text": [
            "Collecting de_core_news_sm==2.3.0\n",
            "\u001b[?25l  Downloading https://github.com/explosion/spacy-models/releases/download/de_core_news_sm-2.3.0/de_core_news_sm-2.3.0.tar.gz (14.9MB)\n",
            "\u001b[K     |████████████████████████████████| 14.9MB 1.3MB/s \n",
            "\u001b[?25hRequirement already satisfied: spacy<2.4.0,>=2.3.0 in /usr/local/lib/python3.6/dist-packages (from de_core_news_sm==2.3.0) (2.3.4)\n",
            "Requirement already satisfied: plac<1.2.0,>=0.9.6 in /usr/local/lib/python3.6/dist-packages (from spacy<2.4.0,>=2.3.0->de_core_news_sm==2.3.0) (1.1.3)\n",
            "Requirement already satisfied: requests<3.0.0,>=2.13.0 in /usr/local/lib/python3.6/dist-packages (from spacy<2.4.0,>=2.3.0->de_core_news_sm==2.3.0) (2.23.0)\n",
            "Requirement already satisfied: thinc<7.5.0,>=7.4.1 in /usr/local/lib/python3.6/dist-packages (from spacy<2.4.0,>=2.3.0->de_core_news_sm==2.3.0) (7.4.3)\n",
            "Requirement already satisfied: numpy>=1.15.0 in /usr/local/lib/python3.6/dist-packages (from spacy<2.4.0,>=2.3.0->de_core_news_sm==2.3.0) (1.18.5)\n",
            "Requirement already satisfied: catalogue<1.1.0,>=0.0.7 in /usr/local/lib/python3.6/dist-packages (from spacy<2.4.0,>=2.3.0->de_core_news_sm==2.3.0) (1.0.0)\n",
            "Requirement already satisfied: wasabi<1.1.0,>=0.4.0 in /usr/local/lib/python3.6/dist-packages (from spacy<2.4.0,>=2.3.0->de_core_news_sm==2.3.0) (0.8.0)\n",
            "Requirement already satisfied: srsly<1.1.0,>=1.0.2 in /usr/local/lib/python3.6/dist-packages (from spacy<2.4.0,>=2.3.0->de_core_news_sm==2.3.0) (1.0.4)\n",
            "Requirement already satisfied: setuptools in /usr/local/lib/python3.6/dist-packages (from spacy<2.4.0,>=2.3.0->de_core_news_sm==2.3.0) (50.3.2)\n",
            "Requirement already satisfied: tqdm<5.0.0,>=4.38.0 in /usr/local/lib/python3.6/dist-packages (from spacy<2.4.0,>=2.3.0->de_core_news_sm==2.3.0) (4.41.1)\n",
            "Requirement already satisfied: blis<0.8.0,>=0.4.0; python_version >= \"3.6\" in /usr/local/lib/python3.6/dist-packages (from spacy<2.4.0,>=2.3.0->de_core_news_sm==2.3.0) (0.4.1)\n",
            "Requirement already satisfied: cymem<2.1.0,>=2.0.2 in /usr/local/lib/python3.6/dist-packages (from spacy<2.4.0,>=2.3.0->de_core_news_sm==2.3.0) (2.0.4)\n",
            "Requirement already satisfied: murmurhash<1.1.0,>=0.28.0 in /usr/local/lib/python3.6/dist-packages (from spacy<2.4.0,>=2.3.0->de_core_news_sm==2.3.0) (1.0.4)\n",
            "Requirement already satisfied: preshed<3.1.0,>=3.0.2 in /usr/local/lib/python3.6/dist-packages (from spacy<2.4.0,>=2.3.0->de_core_news_sm==2.3.0) (3.0.4)\n",
            "Requirement already satisfied: chardet<4,>=3.0.2 in /usr/local/lib/python3.6/dist-packages (from requests<3.0.0,>=2.13.0->spacy<2.4.0,>=2.3.0->de_core_news_sm==2.3.0) (3.0.4)\n",
            "Requirement already satisfied: idna<3,>=2.5 in /usr/local/lib/python3.6/dist-packages (from requests<3.0.0,>=2.13.0->spacy<2.4.0,>=2.3.0->de_core_news_sm==2.3.0) (2.10)\n",
            "Requirement already satisfied: certifi>=2017.4.17 in /usr/local/lib/python3.6/dist-packages (from requests<3.0.0,>=2.13.0->spacy<2.4.0,>=2.3.0->de_core_news_sm==2.3.0) (2020.11.8)\n",
            "Requirement already satisfied: urllib3!=1.25.0,!=1.25.1,<1.26,>=1.21.1 in /usr/local/lib/python3.6/dist-packages (from requests<3.0.0,>=2.13.0->spacy<2.4.0,>=2.3.0->de_core_news_sm==2.3.0) (1.24.3)\n",
            "Requirement already satisfied: importlib-metadata>=0.20; python_version < \"3.8\" in /usr/local/lib/python3.6/dist-packages (from catalogue<1.1.0,>=0.0.7->spacy<2.4.0,>=2.3.0->de_core_news_sm==2.3.0) (2.0.0)\n",
            "Requirement already satisfied: zipp>=0.5 in /usr/local/lib/python3.6/dist-packages (from importlib-metadata>=0.20; python_version < \"3.8\"->catalogue<1.1.0,>=0.0.7->spacy<2.4.0,>=2.3.0->de_core_news_sm==2.3.0) (3.4.0)\n",
            "Building wheels for collected packages: de-core-news-sm\n",
            "  Building wheel for de-core-news-sm (setup.py) ... \u001b[?25l\u001b[?25hdone\n",
            "  Created wheel for de-core-news-sm: filename=de_core_news_sm-2.3.0-cp36-none-any.whl size=14907580 sha256=4629ed3d81e66a0e9ab438ff53f62b58fe3ac55c109b0e227e32a0afc18c788c\n",
            "  Stored in directory: /tmp/pip-ephem-wheel-cache-wahsfsfi/wheels/db/f3/1e/0df0f27eee12bd1aaa94bcfef11b01eca62f90b9b9a0ce08fd\n",
            "Successfully built de-core-news-sm\n",
            "Installing collected packages: de-core-news-sm\n",
            "Successfully installed de-core-news-sm-2.3.0\n",
            "\u001b[38;5;2m✔ Download and installation successful\u001b[0m\n",
            "You can now load the model via spacy.load('de_core_news_sm')\n",
            "\u001b[38;5;2m✔ Linking successful\u001b[0m\n",
            "/usr/local/lib/python3.6/dist-packages/de_core_news_sm -->\n",
            "/usr/local/lib/python3.6/dist-packages/spacy/data/de\n",
            "You can now load the model via spacy.load('de')\n"
          ],
          "name": "stdout"
        }
      ]
    },
    {
      "cell_type": "code",
      "metadata": {
        "colab": {
          "base_uri": "https://localhost:8080/"
        },
        "id": "cvyOS2NGVSc8",
        "outputId": "14f26e7d-6ebf-4e75-8ce1-55dc21ab0d67"
      },
      "source": [
        "#Spacy on GPU\n",
        "gpu = spacy.prefer_gpu()\n",
        "print('GPU:', gpu)"
      ],
      "execution_count": 59,
      "outputs": [
        {
          "output_type": "stream",
          "text": [
            "GPU: True\n"
          ],
          "name": "stdout"
        }
      ]
    },
    {
      "cell_type": "markdown",
      "metadata": {
        "id": "_VCQfqp63gCs"
      },
      "source": [
        "**4. Use spaCy to get all nouns in the whole file.**"
      ]
    },
    {
      "cell_type": "code",
      "metadata": {
        "id": "D4QPFe9MVdxq"
      },
      "source": [
        "nlp = spacy.load(\"de\")"
      ],
      "execution_count": 60,
      "outputs": []
    },
    {
      "cell_type": "code",
      "metadata": {
        "id": "s91I9ZgPOFJf"
      },
      "source": [
        "#Safe all nouns from Column 'text' in list_nouns\n",
        "list_nouns =[]\n",
        "#df = df[0:200]\n",
        "for index, row in df.iterrows():\n",
        "  doc = nlp(row['text'])\n",
        "  for token in doc:\n",
        "    if token.pos_ == 'NOUN': \n",
        "      list_nouns.append(token.text)"
      ],
      "execution_count": 61,
      "outputs": []
    },
    {
      "cell_type": "code",
      "metadata": {
        "id": "MBw5LBQTPQU4"
      },
      "source": [
        "#print(list_nouns)"
      ],
      "execution_count": 63,
      "outputs": []
    },
    {
      "cell_type": "markdown",
      "metadata": {
        "id": "ER_xHGJf3xok"
      },
      "source": [
        "**5. Filter out the nouns that have characters wich are not in all_letters (see\n",
        "code snippet below). The remaining set of nouns constitute our training data.**"
      ]
    },
    {
      "cell_type": "code",
      "metadata": {
        "id": "tUbCvCWWWDSS"
      },
      "source": [
        "import string\n",
        "all_letters = string.ascii_letters + \"ÄÖÜäöüß\"\n",
        "list_nouns_ascii = []\n",
        "\n",
        "for noun in list_nouns:\n",
        "  contained = True\n",
        "  \n",
        "  for char in noun:\n",
        "    if char not in all_letters:\n",
        "      contained = False\n",
        "      break\n",
        "\n",
        "  if contained:\n",
        "    list_nouns_ascii.append(noun)\n",
        "\n",
        "#print(list_nouns_ascii)"
      ],
      "execution_count": 65,
      "outputs": []
    },
    {
      "cell_type": "markdown",
      "metadata": {
        "id": "4OD8f78PeKzr"
      },
      "source": [
        "**6. Go through the PyTorch tutorial on name generation. Clone the notebook, execute it\n",
        "and understand what is going on.**<br>\n",
        "**7. Use the same architecture to train a language model on the nouns that were extracted\n",
        "from the German dataset in step 1 to 5. (Note: We do not need a „category“, you have\n",
        "to remove everything that belongs to „category“ from the code).**"
      ]
    },
    {
      "cell_type": "code",
      "metadata": {
        "colab": {
          "base_uri": "https://localhost:8080/"
        },
        "id": "tnAEGXrLhGKK",
        "outputId": "b137510f-7f9e-46da-f8b0-211bb8ae2bf1"
      },
      "source": [
        "#Connect to GPU\n",
        "device = torch.device(\"cuda:0\" if torch.cuda.is_available() else \"cpu\")\n",
        "print(device)"
      ],
      "execution_count": 15,
      "outputs": [
        {
          "output_type": "stream",
          "text": [
            "cuda:0\n"
          ],
          "name": "stdout"
        }
      ]
    },
    {
      "cell_type": "code",
      "metadata": {
        "id": "WswGehXZgBv_"
      },
      "source": [
        "#Define for Training and RNN needed variables (to not have to delete everything that belongs to category and reuse the RNN e.g. with verbs) \n",
        "n_letters = len(all_letters) + 1 # Plus EOS marker\n",
        "\n",
        "#Only need one categorie = all nouns from list_nouns\n",
        "n_categories = 1\n",
        "\n",
        "#Dictionary for nouns\n",
        "category_lines = {'NOUN': list_nouns_ascii}\n",
        "all_categories = ['NOUN']"
      ],
      "execution_count": 66,
      "outputs": []
    },
    {
      "cell_type": "markdown",
      "metadata": {
        "id": "r0dy_Vkh6ryR"
      },
      "source": [
        "**RNN Class definiton**"
      ]
    },
    {
      "cell_type": "code",
      "metadata": {
        "id": "4NVOT5hxXbsG"
      },
      "source": [
        "import torch\n",
        "import torch.nn as nn\n",
        "\n",
        "class RNN(nn.Module):\n",
        "    def __init__(self, input_size, hidden_size, output_size):\n",
        "        super(RNN, self).__init__()\n",
        "        self.hidden_size = hidden_size\n",
        "\n",
        "        self.i2h = nn.Linear(n_categories + input_size + hidden_size, hidden_size)\n",
        "        self.i2o = nn.Linear(n_categories + input_size + hidden_size, output_size)\n",
        "        self.o2o = nn.Linear(hidden_size + output_size, output_size)\n",
        "        self.dropout = nn.Dropout(0.1)\n",
        "        self.softmax = nn.LogSoftmax(dim=1)\n",
        "\n",
        "    def forward(self, category, input, hidden):\n",
        "        input_combined = torch.cat((category, input, hidden), 1)\n",
        "        hidden = self.i2h(input_combined)\n",
        "        output = self.i2o(input_combined)\n",
        "        output_combined = torch.cat((hidden, output), 1)\n",
        "        output = self.o2o(output_combined)\n",
        "        output = self.dropout(output)\n",
        "        output = self.softmax(output)\n",
        "        return output, hidden\n",
        "\n",
        "    def initHidden(self):\n",
        "        return torch.zeros(1, self.hidden_size)"
      ],
      "execution_count": 67,
      "outputs": []
    },
    {
      "cell_type": "code",
      "metadata": {
        "id": "AhHf7uxke72b"
      },
      "source": [
        "import random\n",
        "\n",
        "# Random item from a list\n",
        "def randomChoice(l):\n",
        "    return l[random.randint(0, len(l) - 1)]\n",
        "\n",
        "# Get a random category and random line from that category\n",
        "def randomTrainingPair():\n",
        "    category = randomChoice(all_categories)\n",
        "    line = randomChoice(category_lines[category])\n",
        "    return category, line"
      ],
      "execution_count": 68,
      "outputs": []
    },
    {
      "cell_type": "code",
      "metadata": {
        "id": "tIsbiTDse9OI"
      },
      "source": [
        "# One-hot vector for category\n",
        "def categoryTensor(category):\n",
        "    li = all_categories.index(category)\n",
        "    tensor = torch.zeros(1, n_categories)\n",
        "    tensor[0][li] = 1\n",
        "    return tensor\n",
        "\n",
        "# One-hot matrix of first to last letters (not including EOS) for input\n",
        "def inputTensor(line):\n",
        "    tensor = torch.zeros(len(line), 1, n_letters)\n",
        "    for li in range(len(line)):\n",
        "        letter = line[li]\n",
        "        tensor[li][0][all_letters.find(letter)] = 1\n",
        "    return tensor\n",
        "\n",
        "# LongTensor of second letter to end (EOS) for target\n",
        "def targetTensor(line):\n",
        "    letter_indexes = [all_letters.find(line[li]) for li in range(1, len(line))]\n",
        "    letter_indexes.append(n_letters - 1) # EOS\n",
        "    return torch.LongTensor(letter_indexes)"
      ],
      "execution_count": 70,
      "outputs": []
    },
    {
      "cell_type": "code",
      "metadata": {
        "id": "dU62ekmafAIR"
      },
      "source": [
        "# Make category, input, and target tensors from a random category, line pair\n",
        "def randomTrainingExample():\n",
        "    category, line = randomTrainingPair()\n",
        "    category_tensor = categoryTensor(category)\n",
        "    input_line_tensor = inputTensor(line)\n",
        "    target_line_tensor = targetTensor(line)\n",
        "    return category_tensor.to(device), input_line_tensor.to(device), target_line_tensor.to(device)"
      ],
      "execution_count": 71,
      "outputs": []
    },
    {
      "cell_type": "code",
      "metadata": {
        "id": "1u3mNq1AfMFM"
      },
      "source": [
        "criterion = nn.NLLLoss()\n",
        "\n",
        "learning_rate = 0.0005\n",
        "\n",
        "def train(category_tensor, input_line_tensor, target_line_tensor):\n",
        "    target_line_tensor.unsqueeze_(-1)\n",
        "    hidden = rnn.initHidden()\n",
        "\n",
        "    rnn.zero_grad()\n",
        "\n",
        "    loss = 0\n",
        "\n",
        "    for i in range(input_line_tensor.size(0)):\n",
        "        output, hidden = rnn(category_tensor, input_line_tensor[i], hidden)\n",
        "        l = criterion(output, target_line_tensor[i])\n",
        "        loss += l\n",
        "\n",
        "    loss.backward()\n",
        "\n",
        "    for p in rnn.parameters():\n",
        "        p.data.add_(p.grad.data, alpha=-learning_rate)\n",
        "\n",
        "    return output, loss.item() / input_line_tensor.size(0)"
      ],
      "execution_count": 72,
      "outputs": []
    },
    {
      "cell_type": "code",
      "metadata": {
        "id": "k9x_uoXKfPa6"
      },
      "source": [
        "import time\n",
        "import math\n",
        "\n",
        "def timeSince(since):\n",
        "    now = time.time()\n",
        "    s = now - since\n",
        "    m = math.floor(s / 60)\n",
        "    s -= m * 60\n",
        "    return '%dm %ds' % (m, s)"
      ],
      "execution_count": 73,
      "outputs": []
    },
    {
      "cell_type": "markdown",
      "metadata": {
        "id": "MNTW0YeN6m2-"
      },
      "source": [
        "**Training of RNN**"
      ]
    },
    {
      "cell_type": "code",
      "metadata": {
        "id": "N3a8vpYifaW1"
      },
      "source": [
        "rnn = RNN(n_letters, 128, n_letters)\n",
        "\n",
        "n_iters = 1000\n",
        "print_every = 5000\n",
        "plot_every = 500\n",
        "all_losses = []\n",
        "total_loss = 0 # Reset every plot_every iters\n",
        "\n",
        "start = time.time()\n",
        "\n",
        "for iter in range(1, n_iters + 1):\n",
        "    output, loss = train(*randomTrainingExample())\n",
        "    total_loss += loss\n",
        "\n",
        "    if iter % print_every == 0:\n",
        "        print('%s (%d %d%%) %.4f' % (timeSince(start), iter, iter / n_iters * 100, loss))\n",
        "\n",
        "    if iter % plot_every == 0:\n",
        "        all_losses.append(total_loss / plot_every)\n",
        "        total_loss = 0"
      ],
      "execution_count": 75,
      "outputs": []
    },
    {
      "cell_type": "markdown",
      "metadata": {
        "id": "ejBRNDrU6ypo"
      },
      "source": [
        "**Sampling-Methods**"
      ]
    },
    {
      "cell_type": "markdown",
      "metadata": {
        "id": "iCzD432t7DPV"
      },
      "source": [
        "Original Sampling-Method"
      ]
    },
    {
      "cell_type": "code",
      "metadata": {
        "colab": {
          "base_uri": "https://localhost:8080/"
        },
        "id": "95BsdG8zfd4I",
        "outputId": "b375b088-b9d1-46b4-a360-b998085a6700"
      },
      "source": [
        "max_length = 20\n",
        "\n",
        "# Sample from a category and starting letter\n",
        "def sample(category, start_letter='A'):\n",
        "    with torch.no_grad():  # no need to track history in sampling\n",
        "        category_tensor = categoryTensor(category)\n",
        "        input = inputTensor(start_letter)\n",
        "        hidden = rnn.initHidden()\n",
        "\n",
        "        output_name = start_letter\n",
        "\n",
        "\n",
        "        for i in range(max_length):\n",
        "            output, hidden = rnn(category_tensor, input[0], hidden)\n",
        "            topv, topi = output.topk(1)\n",
        "            topi = topi[0][0]\n",
        "            if topi == n_letters - 1:\n",
        "                break\n",
        "            else:\n",
        "                letter = all_letters[topi]\n",
        "                output_name += letter\n",
        "            input = inputTensor(letter)\n",
        "\n",
        "        return output_name\n",
        "\n",
        "# Get multiple samples from one category and multiple starting letters\n",
        "def samples(category, start_letters='ABC'):\n",
        "    for start_letter in start_letters:\n",
        "        print(sample(category, start_letter))\n",
        "\n",
        "samples('NOUN', 'HLCG')\n"
      ],
      "execution_count": 24,
      "outputs": [
        {
          "output_type": "stream",
          "text": [
            "Heeeee\n",
            "Leeeee\n",
            "Ceeeee\n",
            "Geeeee\n"
          ],
          "name": "stdout"
        }
      ]
    },
    {
      "cell_type": "markdown",
      "metadata": {
        "id": "IRLIkwhd7HhS"
      },
      "source": [
        "**8. Extend the sampling logic in the sample function sucht that:\n",
        "<br>\n",
        "i. The model extends any given prefix string by first feeding the prefix into the RNN\n",
        "and then start generating new characters. (Currently the model only samples based\n",
        "on a given starting letter).**"
      ]
    },
    {
      "cell_type": "code",
      "metadata": {
        "id": "CpzHCZjomM-u"
      },
      "source": [
        "# Sample from a category and starting letters \n",
        "def sample_highest_score(category, start_letters):\n",
        "    with torch.no_grad():  # no need to track history in sampling\n",
        "        category_tensor = categoryTensor(category)\n",
        "        input = inputTensor(start_letters)\n",
        "        hidden = rnn.initHidden()\n",
        "\n",
        "        output_name = start_letters\n",
        "\n",
        "        #Loop over the Input Letters except the last one and create input tensors for each\n",
        "        for character in start_letters[:-1]:\n",
        "          input = inputTensor(character)\n",
        "\n",
        "          # Calculate the output and current hidden layer for each input tensor with defined RNN, \n",
        "          # to learn the models hidden layers with first given letters \n",
        "          output, hidden = rnn(category_tensor, input[0], hidden)\n",
        "\n",
        "        #Create Input Tensor for last character and overwrite current Input Tensor\n",
        "        input = inputTensor(start_letters[-1])\n",
        "\n",
        "        #Calculate the following predicted letters after the last Input character based on learned RNN/ hidden_layers    \n",
        "        for i in range(max_length):\n",
        "            output, hidden = rnn(category_tensor, input[0], hidden)\n",
        "\n",
        "            #Take the character with the highest score \n",
        "            topv, topi = output.topk(1)\n",
        "            topi = topi[0][0]\n",
        "            if topi == n_letters - 1:\n",
        "                break\n",
        "            else:\n",
        "                letter = all_letters[topi]\n",
        "                output_name += letter\n",
        "            input = inputTensor(letter)\n",
        "\n",
        "        return output_name\n"
      ],
      "execution_count": 25,
      "outputs": []
    },
    {
      "cell_type": "markdown",
      "metadata": {
        "id": "MIgqmUy67evZ"
      },
      "source": [
        "**ii. Currently the model uses the highest score during sampling. Change that into\n",
        "drawing a real sample from the softmax distribution.**"
      ]
    },
    {
      "cell_type": "code",
      "metadata": {
        "id": "MMnGEWGQQgNM"
      },
      "source": [
        "import numpy as np\n",
        "\n",
        "#Convert all_letters to list and add <EOS> \n",
        "all_letters_norm = []\n",
        "for character in all_letters:\n",
        "  all_letters_norm.append(character)\n",
        "all_letters_norm.append(\"<EOS>\")\n",
        "\n",
        "# Sample from a category and starting letter\n",
        "def sample_real_sampling(category, start_letters):\n",
        "    with torch.no_grad():  # no need to track history in sampling\n",
        "        category_tensor = categoryTensor(category)\n",
        "        input = inputTensor(start_letters)\n",
        "        hidden = rnn.initHidden()\n",
        "\n",
        "        output_name = start_letters\n",
        "\n",
        "        #Loop over the Input Letters except the last one and create input tensors for each\n",
        "        for character in start_letters[:-1]:\n",
        "          input = inputTensor(character)\n",
        "\n",
        "          # Calculate the output and current hidden layer for each input tensor with defined RNN, \n",
        "          # to learn the models hidden layers with first given letters \n",
        "          output, hidden = rnn(category_tensor, input[0], hidden)\n",
        "\n",
        "        #Create Input Tensor for last character and overwrite current Input Tensor\n",
        "        input = inputTensor(start_letters[-1])\n",
        "\n",
        "        for i in range(max_length):\n",
        "            output, hidden = rnn(category_tensor, input[0], hidden)\n",
        "\n",
        "            # Cast output Tensor to numpy array with dimension 1 and cast it with exp() to a normal SoftMax distribution\n",
        "            output = output.cpu().detach().numpy().ravel()\n",
        "            output = np.exp(output)\n",
        "            \n",
        "            #print(output)\n",
        "            #print(output.sum())\n",
        "           \n",
        "            #Do a random select with the probability_distribution of all letters in all_letters_norm\n",
        "            top_char = random.choices(all_letters_norm, output, k=1)\n",
        "\n",
        "            if top_char[0] == \"<EOS>\":\n",
        "                break\n",
        "            else:\n",
        "                output_name += top_char[0]\n",
        "            input = inputTensor(top_char)\n",
        "\n",
        "        return output_name\n"
      ],
      "execution_count": 44,
      "outputs": []
    },
    {
      "cell_type": "markdown",
      "metadata": {
        "id": "UuxYDwfyRAJa"
      },
      "source": [
        "**9. Choose 10 random words from the training data and randomly cut-off a prefix. For\n",
        "every of those prefixes give an output for:**\n",
        "> **1. The model extending the prefix with the max score approach.**<br>\n",
        "> **2. The mode extending the prefix with a real sampling approach.**<br>\n",
        "> **3. Randomly pick characters from all_letters to extend the prefix (this is just for comparison reasons, i.e. how would a complete random generation look like).**\n",
        "\n",
        "\n"
      ]
    },
    {
      "cell_type": "code",
      "metadata": {
        "id": "P0l7g5ocMyhV"
      },
      "source": [
        "# Random item from a list\n",
        "def randomChoice(l):\n",
        "    return l[random.randint(0, len(l) - 1)]"
      ],
      "execution_count": 29,
      "outputs": []
    },
    {
      "cell_type": "code",
      "metadata": {
        "colab": {
          "base_uri": "https://localhost:8080/"
        },
        "id": "S7KXQGgkTu8C",
        "outputId": "f14f5908-6c16-4d06-d549-4e358a663e6e"
      },
      "source": [
        "#Choose 10 random words from list_nouns_ascii\n",
        "for i in range(10):\n",
        "  word = randomChoice(list_nouns_ascii)\n",
        "  prefix = word[0:random.randint(1, len(word))]\n",
        "\n",
        "  string = \"\".join((random.choices(all_letters, k=random.randint(2,6))))\n",
        "  rand_word = prefix + string\n",
        "\n",
        "  original = sample('NOUN', prefix)\n",
        "  highest_score = sample_highest_score('NOUN', prefix)\n",
        "  weighted_sampling = sample_real_sampling('NOUN', prefix)\n",
        "\n",
        "  \n",
        "  print('Word: {:30} Prefix: {:30} OriginalSampling: {:30} HighestScore: {:30} WeightedSampling: {:30} RandomWordGeneration: {:30}'. format(word, prefix, original, highest_score, weighted_sampling, rand_word))\n",
        "\n"
      ],
      "execution_count": 76,
      "outputs": [
        {
          "output_type": "stream",
          "text": [
            "Word: Bürgermeister                  Prefix: Bürgermeister                  OriginalSampling: Bürgermeistereeee              HighestScore: Bürgermeister                  WeightedSampling: Bürgermeisterns                RandomWordGeneration: BürgermeistereBg              \n",
            "Word: Flucht                         Prefix: Flucht                         OriginalSampling: Fluchteeeee                    HighestScore: Fluchte                        WeightedSampling: Fluchtkneeim                   RandomWordGeneration: FluchtTÄYjH                   \n",
            "Word: Spielwelt                      Prefix: Spie                           OriginalSampling: Spieeeeen                      HighestScore: Spien                          WeightedSampling: Spie                           RandomWordGeneration: SpieLMT                       \n",
            "Word: Prozent                        Prefix: Pr                             OriginalSampling: Prneee                         HighestScore: Prnen                          WeightedSampling: Prsttseeirea                   RandomWordGeneration: PrGRK                         \n",
            "Word: Regierung                      Prefix: Regierung                      OriginalSampling: Regierungeee                   HighestScore: Regierung                      WeightedSampling: Regierungeluo                  RandomWordGeneration: RegierungOXBÄ                 \n",
            "Word: Belgier                        Prefix: Belg                           OriginalSampling: Belgeeee                       HighestScore: Belgen                         WeightedSampling: Belgrgaa                       RandomWordGeneration: BelgpJS                       \n",
            "Word: Ressourcen                     Prefix: Ressour                        OriginalSampling: Ressourenen                    HighestScore: Ressourn                       WeightedSampling: RessourZ                       RandomWordGeneration: RessourgsCG                   \n",
            "Word: Medienberichte                 Prefix: Medi                           OriginalSampling: Medienene                      HighestScore: Medien                         WeightedSampling: Median                         RandomWordGeneration: MediÜsT                       \n",
            "Word: Arbeitsunterlagen              Prefix: Arbe                           OriginalSampling: Arbeeeee                       HighestScore: Arben                          WeightedSampling: Arbesnnflnu                    RandomWordGeneration: Arbeüvh                       \n",
            "Word: Diskriminierungsverbot         Prefix: Diskrimi                       OriginalSampling: Diskrimieee                    HighestScore: Diskrimi                       WeightedSampling: DiskrimislngegteieQe           RandomWordGeneration: DiskrimiXwIV                  \n"
          ],
          "name": "stdout"
        }
      ]
    },
    {
      "cell_type": "code",
      "metadata": {
        "id": "c6S76gL4wrWD"
      },
      "source": [
        ""
      ],
      "execution_count": null,
      "outputs": []
    }
  ]
}