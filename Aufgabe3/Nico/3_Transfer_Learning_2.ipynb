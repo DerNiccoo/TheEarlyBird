{
  "nbformat": 4,
  "nbformat_minor": 0,
  "metadata": {
    "colab": {
      "name": "3_Transfer_Learning_2.ipynb",
      "provenance": [],
      "authorship_tag": "ABX9TyNsy+2lqs4aUG/2YQjI6t61",
      "include_colab_link": true
    },
    "kernelspec": {
      "name": "python3",
      "display_name": "Python 3"
    },
    "accelerator": "GPU"
  },
  "cells": [
    {
      "cell_type": "markdown",
      "metadata": {
        "id": "view-in-github",
        "colab_type": "text"
      },
      "source": [
        "<a href=\"https://colab.research.google.com/github/DerNiccoo/TheEarlyBird/blob/main/Aufgabe3/Nico/3_Transfer_Learning_2.ipynb\" target=\"_parent\"><img src=\"https://colab.research.google.com/assets/colab-badge.svg\" alt=\"Open In Colab\"/></a>"
      ]
    },
    {
      "cell_type": "code",
      "metadata": {
        "id": "DCFZQQZapdz3"
      },
      "source": [
        "import torch\n",
        "import torchvision\n",
        "import torchvision.transforms as transforms\n",
        "import matplotlib.pyplot as plt\n",
        "import numpy as np\n",
        "import torch.nn as nn\n",
        "import torch.nn.functional as F\n",
        "import torch.optim as optim\n",
        "from torch.utils.data import Dataset, DataLoader"
      ],
      "execution_count": null,
      "outputs": []
    },
    {
      "cell_type": "code",
      "metadata": {
        "id": "2O700nFdppwf"
      },
      "source": [
        "model_conv = torchvision.models.resnet18(pretrained=True)\n",
        "\n",
        "for param in model_conv.parameters():\n",
        "  param.requires_grad = False\n",
        "\n",
        "num_ftrs = model_conv.fc.in_features\n",
        "model_conv.fc = nn.Linear(num_ftrs, 2)"
      ],
      "execution_count": null,
      "outputs": []
    },
    {
      "cell_type": "code",
      "metadata": {
        "id": "8XlpeSeEpr3D",
        "outputId": "6d147f71-04b5-4292-f641-1d17dd3f74d6",
        "colab": {
          "base_uri": "https://localhost:8080/"
        }
      },
      "source": [
        "from google.colab import drive\n",
        "drive.mount('/content/gdrive')"
      ],
      "execution_count": null,
      "outputs": [
        {
          "output_type": "stream",
          "text": [
            "Drive already mounted at /content/gdrive; to attempt to forcibly remount, call drive.mount(\"/content/gdrive\", force_remount=True).\n"
          ],
          "name": "stdout"
        }
      ]
    },
    {
      "cell_type": "code",
      "metadata": {
        "id": "Fb01_8cTp4kS",
        "outputId": "fc436494-9ae7-4882-d05c-4d591f3d9ee3",
        "colab": {
          "base_uri": "https://localhost:8080/"
        }
      },
      "source": [
        "device = torch.device(\"cuda:0\" if torch.cuda.is_available() else \"cpu\")\n",
        "print(device)\n",
        "\n",
        "class Net(nn.Module):\n",
        "    def __init__(self):\n",
        "        super(Net, self).__init__()\n",
        "        self.conv1 = nn.Conv2d(3, 6, 5)\n",
        "        self.pool = nn.MaxPool2d(2, 2)\n",
        "        self.conv2 = nn.Conv2d(6, 16, 5)\n",
        "        self.fc1 = nn.Linear(16 * 5 * 5, 120)\n",
        "        self.fc2 = nn.Linear(120, 84)\n",
        "        self.fc3 = nn.Linear(84, 8)\n",
        "\n",
        "    def forward(self, x):\n",
        "        x = self.pool(F.relu(self.conv1(x)))\n",
        "        x = self.pool(F.relu(self.conv2(x)))\n",
        "        x = x.view(-1, 16 * 5 * 5)\n",
        "        x = F.relu(self.fc1(x))\n",
        "        x = F.relu(self.fc2(x))\n",
        "        x = self.fc3(x)\n",
        "        return x\n",
        "\n",
        "\n",
        "net = Net()\n",
        "net.to(device)\n",
        "\n",
        "model_save_name = 'cifar8.pt'\n",
        "path = F\"/content/gdrive/My Drive/{model_save_name}\"\n",
        "net.load_state_dict(torch.load(path))"
      ],
      "execution_count": null,
      "outputs": [
        {
          "output_type": "stream",
          "text": [
            "cuda:0\n"
          ],
          "name": "stdout"
        },
        {
          "output_type": "execute_result",
          "data": {
            "text/plain": [
              "<All keys matched successfully>"
            ]
          },
          "metadata": {
            "tags": []
          },
          "execution_count": 4
        }
      ]
    },
    {
      "cell_type": "code",
      "metadata": {
        "id": "pO58Cpd2qHoL"
      },
      "source": [
        "for param in net.parameters():\n",
        "  param.requires_grad = False\n",
        "\n",
        "num_ftrs = net.fc3.in_features\n",
        "net.fc3 = nn.Linear(num_ftrs, 2)\n"
      ],
      "execution_count": null,
      "outputs": []
    },
    {
      "cell_type": "code",
      "metadata": {
        "id": "2lsmKo5Iz1Tc",
        "outputId": "bb1bc02f-b9ab-4eeb-b7da-3ca269ecee5b",
        "colab": {
          "base_uri": "https://localhost:8080/"
        }
      },
      "source": [
        "print(net.parameters())"
      ],
      "execution_count": null,
      "outputs": [
        {
          "output_type": "stream",
          "text": [
            "<generator object Module.parameters at 0x7f677e1f5fc0>\n"
          ],
          "name": "stdout"
        }
      ]
    },
    {
      "cell_type": "code",
      "metadata": {
        "id": "1QrQzpphtCcq"
      },
      "source": [
        "class CIFAR2(Dataset):\n",
        "    \"\"\"CIFAR2.\"\"\"\n",
        "\n",
        "    classes = (\"plane\", \"car\", \"bird\", \"cat\", \"deer\", \"dog\", \"frog\", \"horse\", 'ship', 'truck')\n",
        "\n",
        "    def __init__(self, dataset):\n",
        "      self.cifar = []\n",
        "      for i in range(len(dataset)):\n",
        "        if dataset.targets[i] in [8, 9]:\n",
        "          self.cifar.append(dataset[i])\n",
        "        if len(self.cifar) >= 50:\n",
        "          break\n",
        "\n",
        "      for i in range(len(self.cifar)):\n",
        "        lst = list(self.cifar[i])\n",
        "        t = tuple(lst)\n",
        "        if lst[1] == 8:\n",
        "          lst[1] = 0\n",
        "        else:\n",
        "          lst[1] = 1\n",
        "        self.cifar[i] = tuple(lst)\n",
        "\n",
        "    def __len__(self):\n",
        "        return len(self.cifar)\n",
        "\n",
        "    def __getitem__(self, idx):\n",
        "        if torch.is_tensor(idx):\n",
        "            idx = idx.tolist()\n",
        "\n",
        "        items = self.cifar[idx]\n",
        "        return items"
      ],
      "execution_count": null,
      "outputs": []
    },
    {
      "cell_type": "code",
      "metadata": {
        "id": "Wh8Hh2N8t6f4",
        "outputId": "9b383b2d-59bb-465a-da49-da017ae80ea8",
        "colab": {
          "base_uri": "https://localhost:8080/"
        }
      },
      "source": [
        "transform = transforms.Compose(\n",
        "    [transforms.ToTensor(),\n",
        "     transforms.Normalize((0.5, 0.5, 0.5), (0.5, 0.5, 0.5))])\n",
        "\n",
        "trainset = torchvision.datasets.CIFAR10(root='./data', train=True,\n",
        "                                        download=True, transform=transform)\n",
        "\n",
        "testset = torchvision.datasets.CIFAR10(root='./data', train=False,\n",
        "                                       download=True, transform=transform)\n",
        "\n",
        "train_set = CIFAR2(dataset=trainset)\n",
        "test_set = CIFAR2(dataset=testset)\n",
        "\n",
        "trainloader = torch.utils.data.DataLoader(train_set, batch_size=4,\n",
        "                                          shuffle=True, num_workers=2)\n",
        "\n",
        "testloader = torch.utils.data.DataLoader(test_set, batch_size=4,\n",
        "                                         shuffle=False, num_workers=2)"
      ],
      "execution_count": null,
      "outputs": [
        {
          "output_type": "stream",
          "text": [
            "Files already downloaded and verified\n",
            "Files already downloaded and verified\n"
          ],
          "name": "stdout"
        }
      ]
    },
    {
      "cell_type": "code",
      "metadata": {
        "id": "V6Wh_cmF_xrg"
      },
      "source": [
        "def train_test(net, lr):\n",
        "  net.to(device)\n",
        "  criterion = nn.CrossEntropyLoss()\n",
        "  optimizer = optim.SGD(net.parameters(), lr=lr, momentum=0.9)\n",
        "\n",
        "\n",
        "  for epoch in range(2):  # loop over the dataset multiple times\n",
        "\n",
        "      running_loss = 0.0\n",
        "      for i, data in enumerate(trainloader, 0):\n",
        "          # get the inputs; data is a list of [inputs, labels]\n",
        "          inputs, labels = data[0].to(device), data[1].to(device)\n",
        "          # zero the parameter gradients\n",
        "          optimizer.zero_grad()\n",
        "\n",
        "          # forward + backward + optimize\n",
        "          outputs = net(inputs)\n",
        "          loss = criterion(outputs, labels)\n",
        "          loss.backward()\n",
        "          optimizer.step()\n",
        "\n",
        "          # print statistics\n",
        "          running_loss += loss.item()\n",
        "          if i % 10 == 0:    # print every 1000 mini-batches\n",
        "              print('[%d, %5d] loss: %.3f' %\n",
        "                    (epoch + 1, i + 1, running_loss / 1000))\n",
        "\n",
        "\n",
        "              running_loss = 0.0\n",
        "\n",
        "  print('Finished Training')\n",
        "\n",
        "  total = 0\n",
        "  correct = 0\n",
        "  with torch.no_grad():\n",
        "      for data in testloader:\n",
        "          images, labels = data[0].to(device), data[1].to(device)\n",
        "          outputs = net(images)\n",
        "          _, predicted = torch.max(outputs, 1)\n",
        "          for p, l in zip(predicted, labels):\n",
        "            total += 1\n",
        "            if p == l:\n",
        "              correct += 1\n",
        "\n",
        "  print('Accuracy %2d%%' % (100 * correct / total))"
      ],
      "execution_count": null,
      "outputs": []
    },
    {
      "cell_type": "code",
      "metadata": {
        "id": "-muogfgWt_dC",
        "outputId": "6ad9469c-3677-43a3-e937-d79dc09f7365",
        "colab": {
          "base_uri": "https://localhost:8080/"
        }
      },
      "source": [
        "train_test(net, 0.001)"
      ],
      "execution_count": null,
      "outputs": [
        {
          "output_type": "stream",
          "text": [
            "[1,     1] loss: 0.001\n",
            "[1,    11] loss: 0.010\n",
            "[2,     1] loss: 0.001\n",
            "[2,    11] loss: 0.007\n",
            "Finished Training\n",
            "Accuracy 60%\n"
          ],
          "name": "stdout"
        }
      ]
    },
    {
      "cell_type": "code",
      "metadata": {
        "id": "PqX9uKSu-IiN"
      },
      "source": [
        ""
      ],
      "execution_count": null,
      "outputs": []
    },
    {
      "cell_type": "code",
      "metadata": {
        "id": "5bp6iY6muy-0",
        "outputId": "be18dd1f-56af-41ba-ba2e-c727b0f66a08",
        "colab": {
          "base_uri": "https://localhost:8080/"
        }
      },
      "source": [
        "# training ohne Freeze\n",
        "#\n",
        "#\n",
        "net = Net()\n",
        "net.to(device)\n",
        "\n",
        "model_save_name = 'cifar8.pt'\n",
        "path = F\"/content/gdrive/My Drive/{model_save_name}\"\n",
        "net.load_state_dict(torch.load(path))\n",
        "\n",
        "num_ftrs = net.fc3.in_features\n",
        "net.fc3 = nn.Linear(num_ftrs, 2)\n",
        "\n",
        "train_test(net, 0.00001)"
      ],
      "execution_count": null,
      "outputs": [
        {
          "output_type": "stream",
          "text": [
            "[1,     1] loss: 0.001\n",
            "[1,    11] loss: 0.006\n",
            "[2,     1] loss: 0.001\n",
            "[2,    11] loss: 0.006\n",
            "Finished Training\n",
            "Accuracy 74%\n"
          ],
          "name": "stdout"
        }
      ]
    },
    {
      "cell_type": "code",
      "metadata": {
        "id": "YRR5ZvY-_WGT",
        "outputId": "1d4dba6b-1c13-4706-be80-2040228b496e",
        "colab": {
          "base_uri": "https://localhost:8080/"
        }
      },
      "source": [
        "net = torchvision.models.resnet18(pretrained=True)\n",
        "\n",
        "for param in net.parameters():\n",
        "  param.requires_grad = False\n",
        "\n",
        "num_ftrs = net.fc.in_features\n",
        "net.fc = nn.Linear(num_ftrs, 2)\n",
        "\n",
        "train_test(net, 0.001)\n",
        "\n",
        "\n",
        "\n",
        "net = torchvision.models.resnet18(pretrained=True)\n",
        "\n",
        "num_ftrs = net.fc.in_features\n",
        "net.fc = nn.Linear(num_ftrs, 2)\n",
        "\n",
        "train_test(net, 0.00001)"
      ],
      "execution_count": null,
      "outputs": [
        {
          "output_type": "stream",
          "text": [
            "[1,     1] loss: 0.002\n",
            "[1,    11] loss: 0.009\n",
            "[2,     1] loss: 0.002\n",
            "[2,    11] loss: 0.008\n",
            "Finished Training\n",
            "Accuracy 42%\n",
            "[1,     1] loss: 0.001\n",
            "[1,    11] loss: 0.008\n",
            "[2,     1] loss: 0.001\n",
            "[2,    11] loss: 0.009\n",
            "Finished Training\n",
            "Accuracy 62%\n"
          ],
          "name": "stdout"
        }
      ]
    },
    {
      "cell_type": "code",
      "metadata": {
        "id": "LAIEIwC-BMbe",
        "outputId": "b4f2a8aa-1c6d-40b0-a77e-a926d4bda584",
        "colab": {
          "base_uri": "https://localhost:8080/"
        }
      },
      "source": [
        "net = torchvision.models.vgg16(pretrained=True)\n",
        "for param in net.parameters():\n",
        "  param.requires_grad = False\n",
        "\n",
        "net.classifier  = nn.Sequential(\n",
        "            nn.Linear(512 * 7 * 7, 4096),\n",
        "            nn.ReLU(True),\n",
        "            nn.Dropout(),\n",
        "            nn.Linear(4096, 4096),\n",
        "            nn.ReLU(True),\n",
        "            nn.Dropout(),\n",
        "            nn.Linear(4096, 2),\n",
        "        )\n",
        "\n",
        "train_test(net, 0.001)"
      ],
      "execution_count": null,
      "outputs": [
        {
          "output_type": "stream",
          "text": [
            "[1,     1] loss: 0.001\n",
            "[1,    11] loss: 0.007\n",
            "[2,     1] loss: 0.001\n",
            "[2,    11] loss: 0.004\n",
            "Finished Training\n",
            "Accuracy 58%\n"
          ],
          "name": "stdout"
        }
      ]
    },
    {
      "cell_type": "code",
      "metadata": {
        "id": "JmAV7LxABbDk",
        "outputId": "50b55484-31a4-4e65-a1be-f423634512ab",
        "colab": {
          "base_uri": "https://localhost:8080/"
        }
      },
      "source": [
        "transform = transforms.Compose([transforms.Resize(size=(224, 224)), transforms.ToTensor(),\n",
        "    transforms.Normalize((0.5,), (0.5,))])\n",
        "\n",
        "trainset = torchvision.datasets.CIFAR10(root='./data', train=True,\n",
        "                                        download=True, transform=transform)\n",
        "\n",
        "testset = torchvision.datasets.CIFAR10(root='./data', train=False,\n",
        "                                       download=True, transform=transform)\n",
        "\n",
        "train_set = CIFAR2(dataset=trainset)\n",
        "test_set = CIFAR2(dataset=testset)\n",
        "\n",
        "trainloader = torch.utils.data.DataLoader(train_set, batch_size=4,\n",
        "                                          shuffle=True, num_workers=2)\n",
        "\n",
        "testloader = torch.utils.data.DataLoader(test_set, batch_size=4,\n",
        "                                         shuffle=False, num_workers=2)"
      ],
      "execution_count": null,
      "outputs": [
        {
          "output_type": "stream",
          "text": [
            "Files already downloaded and verified\n",
            "Files already downloaded and verified\n"
          ],
          "name": "stdout"
        }
      ]
    },
    {
      "cell_type": "code",
      "metadata": {
        "id": "4jFxa9BlDHKk",
        "outputId": "38b51ccd-c166-4780-afed-967dc1fb9ff1",
        "colab": {
          "base_uri": "https://localhost:8080/"
        }
      },
      "source": [
        "net = torchvision.models.resnet18(pretrained=True)\n",
        "\n",
        "for param in net.parameters():\n",
        "  param.requires_grad = False\n",
        "\n",
        "num_ftrs = net.fc.in_features\n",
        "net.fc = nn.Linear(num_ftrs, 2)\n",
        "\n",
        "train_test(net, 0.001)\n",
        "\n",
        "\n",
        "\n",
        "net = torchvision.models.resnet18(pretrained=True)\n",
        "\n",
        "num_ftrs = net.fc.in_features\n",
        "net.fc = nn.Linear(num_ftrs, 2)\n",
        "\n",
        "train_test(net, 0.00001)"
      ],
      "execution_count": null,
      "outputs": [
        {
          "output_type": "stream",
          "text": [
            "[1,     1] loss: 0.001\n",
            "[1,    11] loss: 0.007\n",
            "[2,     1] loss: 0.000\n",
            "[2,    11] loss: 0.007\n",
            "Finished Training\n",
            "Accuracy 42%\n",
            "[1,     1] loss: 0.001\n",
            "[1,    11] loss: 0.007\n",
            "[2,     1] loss: 0.001\n",
            "[2,    11] loss: 0.007\n",
            "Finished Training\n",
            "Accuracy 52%\n"
          ],
          "name": "stdout"
        }
      ]
    },
    {
      "cell_type": "code",
      "metadata": {
        "id": "dVg9vWIEDK1K"
      },
      "source": [
        ""
      ],
      "execution_count": null,
      "outputs": []
    }
  ]
}